{
 "cells": [
  {
   "cell_type": "code",
   "execution_count": 23,
   "id": "1f22836f",
   "metadata": {},
   "outputs": [],
   "source": [
    "import torch\n",
    "import torch.nn as nn"
   ]
  },
  {
   "cell_type": "code",
   "execution_count": 24,
   "id": "bd065b2e",
   "metadata": {},
   "outputs": [
    {
     "data": {
      "text/plain": [
       "tensor([[[0., 0.],\n",
       "         [0., 0.]],\n",
       "\n",
       "        [[0., 0.],\n",
       "         [0., 0.]]])"
      ]
     },
     "execution_count": 24,
     "metadata": {},
     "output_type": "execute_result"
    }
   ],
   "source": [
    "a = torch.zeros(2, 2, 2)\n",
    "a"
   ]
  },
  {
   "cell_type": "code",
   "execution_count": 25,
   "id": "c5f396eb",
   "metadata": {},
   "outputs": [
    {
     "data": {
      "text/plain": [
       "tensor([1, 1, 2, 2, 3, 3])"
      ]
     },
     "execution_count": 25,
     "metadata": {},
     "output_type": "execute_result"
    }
   ],
   "source": [
    "x = torch.tensor([1, 2, 3])\n",
    "x.repeat_interleave(2)"
   ]
  },
  {
   "cell_type": "code",
   "execution_count": 26,
   "id": "e8209cd7",
   "metadata": {},
   "outputs": [
    {
     "data": {
      "text/plain": [
       "tensor([1, 1, 2, 2, 3, 3, 4, 4])"
      ]
     },
     "execution_count": 26,
     "metadata": {},
     "output_type": "execute_result"
    }
   ],
   "source": [
    "y = torch.tensor([[1, 2], [3, 4]])\n",
    "torch.repeat_interleave(y, 2)"
   ]
  },
  {
   "cell_type": "code",
   "execution_count": 27,
   "id": "a69d3c6d",
   "metadata": {},
   "outputs": [
    {
     "data": {
      "text/plain": [
       "tensor([[1, 2],\n",
       "        [1, 2],\n",
       "        [1, 2],\n",
       "        [3, 4],\n",
       "        [3, 4],\n",
       "        [3, 4]])"
      ]
     },
     "execution_count": 27,
     "metadata": {},
     "output_type": "execute_result"
    }
   ],
   "source": [
    "torch.repeat_interleave(y, 3, dim=0)"
   ]
  },
  {
   "cell_type": "code",
   "execution_count": 28,
   "id": "5ffaefa8",
   "metadata": {},
   "outputs": [
    {
     "data": {
      "text/plain": [
       "tensor([[1, 2],\n",
       "        [3, 4],\n",
       "        [3, 4]])"
      ]
     },
     "execution_count": 28,
     "metadata": {},
     "output_type": "execute_result"
    }
   ],
   "source": [
    "torch.repeat_interleave(y, torch.tensor([1, 2]), dim=0)"
   ]
  },
  {
   "cell_type": "code",
   "execution_count": 29,
   "id": "1add315b",
   "metadata": {},
   "outputs": [
    {
     "data": {
      "text/plain": [
       "tensor([[1, 2],\n",
       "        [3, 4],\n",
       "        [3, 4]])"
      ]
     },
     "execution_count": 29,
     "metadata": {},
     "output_type": "execute_result"
    }
   ],
   "source": [
    "torch.repeat_interleave(y, torch.tensor([1, 2]), dim=0, output_size=3)"
   ]
  },
  {
   "cell_type": "code",
   "execution_count": 30,
   "id": "a7f1911f",
   "metadata": {},
   "outputs": [
    {
     "data": {
      "text/plain": [
       "tensor([[1, 2],\n",
       "        [3, 4]])"
      ]
     },
     "execution_count": 30,
     "metadata": {},
     "output_type": "execute_result"
    }
   ],
   "source": [
    "y"
   ]
  },
  {
   "cell_type": "code",
   "execution_count": 31,
   "id": "0e454bc6",
   "metadata": {},
   "outputs": [
    {
     "data": {
      "text/plain": [
       "2"
      ]
     },
     "execution_count": 31,
     "metadata": {},
     "output_type": "execute_result"
    }
   ],
   "source": [
    "B = y.shape[0]\n",
    "B"
   ]
  },
  {
   "cell_type": "code",
   "execution_count": 32,
   "id": "d680ffed",
   "metadata": {},
   "outputs": [
    {
     "data": {
      "text/plain": [
       "Parameter containing:\n",
       "tensor([[[0., 0.]]], requires_grad=True)"
      ]
     },
     "execution_count": 32,
     "metadata": {},
     "output_type": "execute_result"
    }
   ],
   "source": [
    "cls_token     = nn.Parameter(torch.zeros(1, 1, 2), requires_grad=True)\n",
    "cls_token"
   ]
  },
  {
   "cell_type": "code",
   "execution_count": 33,
   "id": "39672e2a",
   "metadata": {},
   "outputs": [
    {
     "data": {
      "text/plain": [
       "tensor([[[0., 0.]],\n",
       "\n",
       "        [[0., 0.]]], grad_fn=<ViewBackward0>)"
      ]
     },
     "execution_count": 33,
     "metadata": {},
     "output_type": "execute_result"
    }
   ],
   "source": [
    "torch.repeat_interleave(cls_token, 2, 0)"
   ]
  },
  {
   "cell_type": "code",
   "execution_count": 34,
   "id": "0a0743a5",
   "metadata": {},
   "outputs": [],
   "source": [
    "x = torch.tensor([\n",
    "    [  # batch 0\n",
    "        [0.1, 0.2, 0.3],   # token 0 (→ thường là CLS token)\n",
    "        [1.0, 1.1, 1.2],   # token 1\n",
    "        [2.0, 2.1, 2.2],   # token 2\n",
    "        [3.0, 3.1, 3.2],   # token 3\n",
    "    ],\n",
    "    [  # batch 1\n",
    "        [9.1, 9.2, 9.3],   # token 0 (CLS token)\n",
    "        [8.0, 8.1, 8.2],   # token 1\n",
    "        [7.0, 7.1, 7.2],   # token 2\n",
    "        [6.0, 6.1, 6.2],   # token 3\n",
    "    ]\n",
    "])  # shape (2, 4, 3)"
   ]
  },
  {
   "cell_type": "code",
   "execution_count": 35,
   "id": "694bc05b",
   "metadata": {},
   "outputs": [
    {
     "data": {
      "text/plain": [
       "tensor([[0.1000, 0.2000, 0.3000],\n",
       "        [9.1000, 9.2000, 9.3000]])"
      ]
     },
     "execution_count": 35,
     "metadata": {},
     "output_type": "execute_result"
    }
   ],
   "source": [
    "x[:, 0, :]\n"
   ]
  },
  {
   "cell_type": "code",
   "execution_count": 36,
   "id": "e67eeced",
   "metadata": {},
   "outputs": [
    {
     "data": {
      "text/plain": [
       "36"
      ]
     },
     "execution_count": 36,
     "metadata": {},
     "output_type": "execute_result"
    }
   ],
   "source": [
    "torch.randn(3, 12).numel()"
   ]
  },
  {
   "cell_type": "code",
   "execution_count": 37,
   "id": "4f25e9a1",
   "metadata": {},
   "outputs": [
    {
     "name": "stdout",
     "output_type": "stream",
     "text": [
      "So tham so cua lop la:  200704\n",
      "So tham so cua lop la:  256\n",
      "So tham so cua lop la:  2560\n",
      "So tham so cua lop la:  10\n"
     ]
    }
   ],
   "source": [
    "model = nn.Sequential(\n",
    "    nn.Linear(784, 256),\n",
    "    nn.ReLU(),\n",
    "    nn.Linear(256, 10)\n",
    ")\n",
    "# n_params = sum(p.numel() for p in model.parameters() if p.requires_grad)\n",
    "# print(f\"Số tham số cần huấn luyện: {n_params}\")\n",
    "for p in model.parameters():\n",
    "    print('So tham so cua lop la: ', p.numel())"
   ]
  },
  {
   "cell_type": "code",
   "execution_count": 38,
   "id": "fdbbd39f",
   "metadata": {},
   "outputs": [
    {
     "data": {
      "text/plain": [
       "tensor([[0.1000, 0.2000, 0.7000],\n",
       "        [0.5000, 0.5000, 0.0000],\n",
       "        [0.1000, 0.3000, 0.6000]])"
      ]
     },
     "execution_count": 38,
     "metadata": {},
     "output_type": "execute_result"
    }
   ],
   "source": [
    "a = torch.tensor(\n",
    "[[0.1, 0.2, 0.7],\n",
    "     [0.5, 0.5, 0.0],\n",
    "     [0.1, 0.3, 0.6]]\n",
    ")\n",
    "a"
   ]
  },
  {
   "cell_type": "code",
   "execution_count": 39,
   "id": "1ec1f5df",
   "metadata": {},
   "outputs": [
    {
     "name": "stdout",
     "output_type": "stream",
     "text": [
      "[tensor([[0.1000, 0.2000, 0.7000],\n",
      "        [0.5000, 0.5000, 0.0000],\n",
      "        [0.1000, 0.3000, 0.6000]]), tensor([[0.1000, 0.2000, 0.7000],\n",
      "        [0.5000, 0.5000, 0.0000],\n",
      "        [0.1000, 0.3000, 0.6000]]), tensor([[0.1000, 0.2000, 0.7000],\n",
      "        [0.5000, 0.5000, 0.0000],\n",
      "        [0.1000, 0.3000, 0.6000]]), tensor([[0.1000, 0.2000, 0.7000],\n",
      "        [0.5000, 0.5000, 0.0000],\n",
      "        [0.1000, 0.3000, 0.6000]]), tensor([[0.1000, 0.2000, 0.7000],\n",
      "        [0.5000, 0.5000, 0.0000],\n",
      "        [0.1000, 0.3000, 0.6000]])]\n",
      "tensor([[0.1000, 0.2000, 0.7000],\n",
      "        [0.5000, 0.5000, 0.0000],\n",
      "        [0.1000, 0.3000, 0.6000],\n",
      "        [0.1000, 0.2000, 0.7000],\n",
      "        [0.5000, 0.5000, 0.0000],\n",
      "        [0.1000, 0.3000, 0.6000],\n",
      "        [0.1000, 0.2000, 0.7000],\n",
      "        [0.5000, 0.5000, 0.0000],\n",
      "        [0.1000, 0.3000, 0.6000],\n",
      "        [0.1000, 0.2000, 0.7000],\n",
      "        [0.5000, 0.5000, 0.0000],\n",
      "        [0.1000, 0.3000, 0.6000],\n",
      "        [0.1000, 0.2000, 0.7000],\n",
      "        [0.5000, 0.5000, 0.0000],\n",
      "        [0.1000, 0.3000, 0.6000]])\n"
     ]
    }
   ],
   "source": [
    "b = []\n",
    "for i in range(5):\n",
    "    b.append(a)\n",
    "print(b)\n",
    "b = torch.cat(b)\n",
    "print(b)"
   ]
  },
  {
   "cell_type": "code",
   "execution_count": 40,
   "id": "e8e42001",
   "metadata": {},
   "outputs": [
    {
     "data": {
      "text/plain": [
       "torch.return_types.max(\n",
       "values=tensor([0.7000, 0.5000, 0.6000, 0.7000, 0.5000, 0.6000, 0.7000, 0.5000, 0.6000,\n",
       "        0.7000, 0.5000, 0.6000, 0.7000, 0.5000, 0.6000]),\n",
       "indices=tensor([2, 0, 2, 2, 0, 2, 2, 0, 2, 2, 0, 2, 2, 0, 2]))"
      ]
     },
     "execution_count": 40,
     "metadata": {},
     "output_type": "execute_result"
    }
   ],
   "source": [
    "b.max(1)"
   ]
  },
  {
   "cell_type": "code",
   "execution_count": 41,
   "id": "ec8b6813",
   "metadata": {},
   "outputs": [
    {
     "data": {
      "text/plain": [
       "tensor([[[0.1000, 0.2000, 0.7000],\n",
       "         [0.5000, 0.5000, 0.0000],\n",
       "         [0.1000, 0.3000, 0.6000]],\n",
       "\n",
       "        [[0.1000, 0.2000, 0.7000],\n",
       "         [0.5000, 0.5000, 0.0000],\n",
       "         [0.1000, 0.3000, 0.6000]]])"
      ]
     },
     "execution_count": 41,
     "metadata": {},
     "output_type": "execute_result"
    }
   ],
   "source": [
    "a = torch.tensor(\n",
    "[[[0.1, 0.2, 0.7],\n",
    "     [0.5, 0.5, 0.0],\n",
    "     [0.1, 0.3, 0.6]],\n",
    "    [[0.1, 0.2, 0.7],\n",
    "     [0.5, 0.5, 0.0],\n",
    "     [0.1, 0.3, 0.6]]]\n",
    ")\n",
    "a"
   ]
  },
  {
   "cell_type": "code",
   "execution_count": 42,
   "id": "d07dad7c",
   "metadata": {},
   "outputs": [
    {
     "data": {
      "text/plain": [
       "torch.Size([2, 3, 3])"
      ]
     },
     "execution_count": 42,
     "metadata": {},
     "output_type": "execute_result"
    }
   ],
   "source": [
    "a.shape"
   ]
  },
  {
   "cell_type": "code",
   "execution_count": 43,
   "id": "df151162",
   "metadata": {},
   "outputs": [
    {
     "data": {
      "text/plain": [
       "tensor([[1, 1, 0],\n",
       "        [1, 1, 0]])"
      ]
     },
     "execution_count": 43,
     "metadata": {},
     "output_type": "execute_result"
    }
   ],
   "source": [
    "a.max(1)[1]"
   ]
  },
  {
   "cell_type": "code",
   "execution_count": 44,
   "id": "d9428c4d",
   "metadata": {},
   "outputs": [
    {
     "data": {
      "text/plain": [
       "tensor([[1],\n",
       "        [2],\n",
       "        [3],\n",
       "        [1],\n",
       "        [2],\n",
       "        [3],\n",
       "        [1],\n",
       "        [2],\n",
       "        [3],\n",
       "        [1],\n",
       "        [2],\n",
       "        [3],\n",
       "        [1],\n",
       "        [2],\n",
       "        [3]])"
      ]
     },
     "execution_count": 44,
     "metadata": {},
     "output_type": "execute_result"
    }
   ],
   "source": [
    "b = torch.tensor([\n",
    "    [1],\n",
    "    [2],\n",
    "    [3]\n",
    "])\n",
    "lis = []\n",
    "for i in range(5):\n",
    "    lis.append(b)\n",
    "\n",
    "torch.cat(lis)"
   ]
  },
  {
   "cell_type": "code",
   "execution_count": 45,
   "id": "9cc482aa",
   "metadata": {},
   "outputs": [
    {
     "data": {
      "image/png": "[encoded data removed]",
      "text/plain": [
       "<Figure size 640x480 with 1 Axes>"
      ]
     },
     "metadata": {},
     "output_type": "display_data"
    }
   ],
   "source": [
    "import matplotlib.pyplot as plt\n",
    "\n",
    "x = [1, 2, 3, 4]\n",
    "y1 = [1, 4, 9, 16]\n",
    "y2 = [1, 2, 3, 4]\n",
    "\n",
    "plt.plot(x, y1, label='y = x^2')\n",
    "plt.plot(x, y2, label='y = x')\n",
    "plt.legend(fontsize=15, frameon=True)  # Hiển thị chú thích\n",
    "plt.title(\"Simple Plot\")\n",
    "plt.show()\n"
   ]
  },
  {
   "cell_type": "code",
   "execution_count": 46,
   "id": "9eda3ab3",
   "metadata": {},
   "outputs": [
    {
     "name": "stdout",
     "output_type": "stream",
     "text": [
      "Hello\n",
      "51\n",
      "Good Bye\n"
     ]
    }
   ],
   "source": [
    "def myFunc():\n",
    "    yield \"Hello\"\n",
    "    yield 51\n",
    "    yield \"Good Bye\"\n",
    "\n",
    "x = myFunc()\n",
    "for z in x:\n",
    "    print(z)"
   ]
  },
  {
   "cell_type": "code",
   "execution_count": 47,
   "id": "84a912f3",
   "metadata": {},
   "outputs": [],
   "source": [
    "x = torch.tensor([\n",
    "    [  # Câu 1\n",
    "        [1, 1, 1, 1],   # token 1\n",
    "        [2, 2, 2, 2],   # token 2\n",
    "        [3, 3, 3, 3],   # token 3  <-- cuối cùng hợp lệ\n",
    "        [9, 9, 9, 9],   # padding\n",
    "        [9, 9, 9, 9]    # padding\n",
    "    ],\n",
    "    [  # Câu 2\n",
    "        [4, 4, 4, 4],\n",
    "        [5, 5, 5, 5],   # cuối cùng hợp lệ\n",
    "        [9, 9, 9, 9],\n",
    "        [9, 9, 9, 9],\n",
    "        [9, 9, 9, 9]\n",
    "    ],\n",
    "    [  # Câu 3 (full 5 token)\n",
    "        [6, 6, 6, 6],\n",
    "        [7, 7, 7, 7],\n",
    "        [8, 8, 8, 8],\n",
    "        [9, 9, 9, 9],\n",
    "        [10, 10, 10, 10]  # cuối cùng hợp lệ\n",
    "    ]\n",
    "])  # shape: [3, 5, 4]\n"
   ]
  },
  {
   "cell_type": "code",
   "execution_count": 71,
   "id": "e2785beb",
   "metadata": {},
   "outputs": [],
   "source": [
    "attention_mask = torch.tensor([\n",
    "  [1,    1,    1,     1,    1,    1,     0,     0],\n",
    "  [1,    1,    1,     1,    1,    1,     0,     0],\n",
    "  [1,    1,    1,     1,    0,    0,     0,     0]\n",
    "])"
   ]
  },
  {
   "cell_type": "code",
   "execution_count": 74,
   "id": "8b54272d",
   "metadata": {},
   "outputs": [
    {
     "data": {
      "text/plain": [
       "tensor([1, 1, 1])"
      ]
     },
     "execution_count": 74,
     "metadata": {},
     "output_type": "execute_result"
    }
   ],
   "source": [
    "attention_mask[:, 0]"
   ]
  },
  {
   "cell_type": "code",
   "execution_count": 73,
   "id": "d10c3227",
   "metadata": {},
   "outputs": [
    {
     "data": {
      "text/plain": [
       "tensor([5, 5, 3])"
      ]
     },
     "execution_count": 73,
     "metadata": {},
     "output_type": "execute_result"
    }
   ],
   "source": [
    "last_indices = torch.sum(attention_mask, dim=1) - 1\n",
    "last_indices"
   ]
  },
  {
   "cell_type": "code",
   "execution_count": 75,
   "id": "30f19b56",
   "metadata": {},
   "outputs": [
    {
     "data": {
      "text/plain": [
       "tensor([[[ 0.4559, -0.8709, -0.9674]]])"
      ]
     },
     "execution_count": 75,
     "metadata": {},
     "output_type": "execute_result"
    }
   ],
   "source": [
    "x = torch.randn(1, 1,3)\n",
    "x"
   ]
  },
  {
   "cell_type": "code",
   "execution_count": 76,
   "id": "efca5d5f",
   "metadata": {},
   "outputs": [
    {
     "data": {
      "text/plain": [
       "tensor([[[ 0.4559, -0.8709, -0.9674]],\n",
       "\n",
       "        [[ 0.4559, -0.8709, -0.9674]],\n",
       "\n",
       "        [[ 0.4559, -0.8709, -0.9674]]])"
      ]
     },
     "execution_count": 76,
     "metadata": {},
     "output_type": "execute_result"
    }
   ],
   "source": [
    "x.expand(3, -1, -1)"
   ]
  },
  {
   "cell_type": "code",
   "execution_count": 77,
   "id": "ba4fd2bc",
   "metadata": {},
   "outputs": [
    {
     "data": {
      "text/plain": [
       "tensor(1.6698, grad_fn=<NllLossBackward0>)"
      ]
     },
     "execution_count": 77,
     "metadata": {},
     "output_type": "execute_result"
    }
   ],
   "source": [
    "loss = nn.CrossEntropyLoss()\n",
    "input = torch.randn(3, 5, requires_grad=True)\n",
    "target = torch.empty(3, dtype=torch.long).random_(5)\n",
    "output = loss(input, target)\n",
    "output"
   ]
  },
  {
   "cell_type": "code",
   "execution_count": 78,
   "id": "236a9347",
   "metadata": {},
   "outputs": [
    {
     "data": {
      "text/plain": [
       "tensor([[ 1.0164,  0.8030,  0.3272, -0.4233, -1.0774],\n",
       "        [ 0.6650,  0.3260,  0.3970,  0.0869, -0.5427],\n",
       "        [ 0.3680,  0.8353, -0.7738,  0.2235,  0.0857]], requires_grad=True)"
      ]
     },
     "execution_count": 78,
     "metadata": {},
     "output_type": "execute_result"
    }
   ],
   "source": [
    "input"
   ]
  },
  {
   "cell_type": "code",
   "execution_count": null,
   "id": "39102a0f",
   "metadata": {},
   "outputs": [],
   "source": [
    "target"
   ]
  }
 ],
 "metadata": {
  "kernelspec": {
   "display_name": "Python 3",
   "language": "python",
   "name": "python3"
  },
  "language_info": {
   "codemirror_mode": {
    "name": "ipython",
    "version": 3
   },
   "file_extension": ".py",
   "mimetype": "text/x-python",
   "name": "python",
   "nbconvert_exporter": "python",
   "pygments_lexer": "ipython3",
   "version": "3.12.4"
  }
 },
 "nbformat": 4,
 "nbformat_minor": 5
}
