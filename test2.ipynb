{
 "cells": [
  {
   "cell_type": "code",
   "execution_count": null,
   "id": "0e7d90a4",
   "metadata": {},
   "outputs": [],
   "source": [
    "import os\n",
    "import torch\n",
    "import numpy as np \n",
    "import utils"
   ]
  },
  {
   "cell_type": "code",
   "execution_count": 6,
   "id": "cb2354cd",
   "metadata": {},
   "outputs": [],
   "source": [
    "def build_path(path):\n",
    "    path_levels = path.split('/')\n",
    "    cur_path = \"\"\n",
    "    for path_seg in path_levels:\n",
    "        if len(cur_path):\n",
    "            cur_path = cur_path + '/' + path_seg\n",
    "        else: \n",
    "            cur_path = path_seg\n",
    "        \n",
    "        if not os.path.exists(cur_path):\n",
    "            os.mkdir(cur_path)"
   ]
  },
  {
   "cell_type": "code",
   "execution_count": 5,
   "id": "3c54b7e6",
   "metadata": {},
   "outputs": [],
   "source": [
    "build_path('./text////get//se')"
   ]
  },
  {
   "cell_type": "code",
   "execution_count": null,
   "id": "0e15a9c7",
   "metadata": {},
   "outputs": [],
   "source": [
    "data = [\n",
    "    [0.1, 0.2,   1,     10.0, 10.1, 10.2],   # meta(0.1, 0.2), label(1), feature(10.0, 10.1, 10.2)\n",
    "    [0.3, 0.4,   0,     11.0, 11.1, 11.2],\n",
    "]\n",
    "\n",
    "order = [1, 0]\n",
    "meta_offset = 2\n",
    "label_dim = 1\n",
    "feature_dim = 3\n",
    "\n",
    "feat = get_feat(data, order, meta_offset, label_dim, feature_dim)\n",
    "print(feat)"
   ]
  }
 ],
 "metadata": {
  "kernelspec": {
   "display_name": "myenv",
   "language": "python",
   "name": "python3"
  },
  "language_info": {
   "codemirror_mode": {
    "name": "ipython",
    "version": 3
   },
   "file_extension": ".py",
   "mimetype": "text/x-python",
   "name": "python",
   "nbconvert_exporter": "python",
   "pygments_lexer": "ipython3",
   "version": "3.13.3"
  }
 },
 "nbformat": 4,
 "nbformat_minor": 5
}
