{
 "cells": [
  {
   "cell_type": "code",
   "execution_count": 1,
   "id": "82fa7f51",
   "metadata": {},
   "outputs": [],
   "source": [
    "import torch "
   ]
  },
  {
   "cell_type": "code",
   "execution_count": 2,
   "id": "ffdcc91f",
   "metadata": {},
   "outputs": [],
   "source": [
    "import torchvision.transforms as transforms\n",
    "from PIL import Image"
   ]
  },
  {
   "cell_type": "code",
   "execution_count": 11,
   "id": "dc33bbc6",
   "metadata": {},
   "outputs": [],
   "source": [
    "\n",
    "# Read image \n",
    "image = Image.open('pic.jpg') \n",
    "  \n",
    "# create an transform for crop the image \n",
    "# 200px height and 400px wide \n",
    "transform = transforms.RandomCrop(50) \n",
    "  \n",
    "# use above created transform to crop \n",
    "# the image \n",
    "image_crop = transform(image) \n",
    "  \n",
    "# display result \n",
    "image_crop.show() "
   ]
  }
 ],
 "metadata": {
  "kernelspec": {
   "display_name": "Python 3",
   "language": "python",
   "name": "python3"
  },
  "language_info": {
   "codemirror_mode": {
    "name": "ipython",
    "version": 3
   },
   "file_extension": ".py",
   "mimetype": "text/x-python",
   "name": "python",
   "nbconvert_exporter": "python",
   "pygments_lexer": "ipython3",
   "version": "3.12.4"
  }
 },
 "nbformat": 4,
 "nbformat_minor": 5
}
