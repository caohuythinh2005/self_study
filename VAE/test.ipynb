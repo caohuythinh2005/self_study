{
 "cells": [
  {
   "cell_type": "code",
   "execution_count": 80,
   "id": "86890295",
   "metadata": {},
   "outputs": [],
   "source": [
    "import torch\n",
    "import numpy as np\n",
    "import torch.nn as nn \n",
    "from torchvision import datasets, transforms\n",
    "from torchvision.utils import save_image\n",
    "from torch.nn import functional as F \n",
    "from torch import nn, optim"
   ]
  },
  {
   "cell_type": "code",
   "execution_count": 81,
   "id": "a7a18213",
   "metadata": {},
   "outputs": [],
   "source": [
    "device = torch.device('cuda:0' if torch.cuda.is_available() else 'cpu')"
   ]
  },
  {
   "cell_type": "markdown",
   "id": "2ab3e4d3",
   "metadata": {},
   "source": [
    "Load Dataset"
   ]
  },
  {
   "cell_type": "code",
   "execution_count": 82,
   "id": "3fa9b57a",
   "metadata": {},
   "outputs": [],
   "source": [
    "import torch.utils\n",
    "import torch.utils.data\n",
    "\n",
    "\n",
    "train_loader = torch.utils.data.DataLoader(\n",
    "    datasets.MNIST('data', train=True, download=True,\n",
    "                   transform=transforms.ToTensor()),\n",
    "    batch_size=1024, shuffle=True\n",
    ")\n",
    "\n",
    "test_loader = torch.utils.data.DataLoader(\n",
    "    datasets.MNIST('data', train=False, download=True,\n",
    "                   transform=transforms.ToTensor()),\n",
    "    batch_size=1024\n",
    ")"
   ]
  },
  {
   "cell_type": "code",
   "execution_count": 83,
   "id": "e1d10e5e",
   "metadata": {},
   "outputs": [],
   "source": [
    "class VAE(nn.Module):\n",
    "    def __init__(self):\n",
    "        super(VAE, self).__init__()\n",
    "        self.fc1 = nn.Linear(784, 400)\n",
    "        self.fc21 = nn.Linear(400, 256)\n",
    "        self.fc22 = nn.Linear(400, 256)\n",
    "        self.fc3 = nn.Linear(256, 400)\n",
    "        self.fc4 = nn.Linear(400, 784)\n",
    "\n",
    "    def encode(self, x):\n",
    "        h1 = F.relu(self.fc1(x))\n",
    "        return self.fc21(h1), self.fc22(h1) # mean, var\n",
    "    \n",
    "    def reparameterize(self, mu, logvar):\n",
    "        std = torch.exp(0.5**logvar)\n",
    "        eps = torch.randn_like(std)\n",
    "        return mu + eps * std\n",
    "    \n",
    "\n",
    "    def decode(self, z):\n",
    "        h3 = F.relu(self.fc3(z))\n",
    "        return torch.relu(self.fc4(h3))\n",
    "\n",
    "    def forward(self, x):\n",
    "        mu, logvar = self.encode(x.view(-1, 784))\n",
    "        z = self.reparameterize(mu, logvar)\n",
    "        return self.decode(z), mu, logvar"
   ]
  },
  {
   "cell_type": "code",
   "execution_count": 95,
   "id": "f8a12f94",
   "metadata": {},
   "outputs": [],
   "source": [
    "def loss_function(recon_x, x, mu, logvar):\n",
    "    BCE = F.mse_loss(recon_x, x.view(-1, 784), reduction='sum')\n",
    "    KLD = -0.5 * torch.sum(1+logvar - mu**2 - logvar.exp())\n",
    "    return BCE + KLD"
   ]
  },
  {
   "cell_type": "code",
   "execution_count": 96,
   "id": "d28a2e6d",
   "metadata": {},
   "outputs": [],
   "source": [
    "model = VAE().to(device)\n",
    "optimizer = optim.Adam(model.parameters(), lr=1e-3)"
   ]
  },
  {
   "cell_type": "code",
   "execution_count": 98,
   "id": "2f097152",
   "metadata": {},
   "outputs": [],
   "source": [
    "def train(epoch):\n",
    "    model.train()\n",
    "    train_loss = 0\n",
    "    for batch_idx, (data, _) in enumerate(train_loader):\n",
    "        data = data.to(device)\n",
    "        optimizer.zero_grad()\n",
    "        recon_batch, mu, logvar = model(data)\n",
    "        loss = loss_function(recon_batch, data, mu, logvar)\n",
    "        loss.backward()\n",
    "        train_loss += loss.item()\n",
    "        optimizer.step()\n",
    "        # if batch_idx % 110 == 0:\n",
    "        #     print('Epoch: {}\\tBatch_idx: {}\\tLoss: {:.4f}'.format(epoch, batch_idx, (loss.item()/len(data))))\n",
    "\n",
    "    torch.save(model.state_dict(), 'save\\\\vae.pt')\n",
    "\n",
    "    print('Epoch: {}, \\t Average loss: {:.4f}'.format(epoch, train_loss / len(train_loader.dataset)))\n"
   ]
  },
  {
   "cell_type": "code",
   "execution_count": 112,
   "id": "608c5582",
   "metadata": {},
   "outputs": [],
   "source": [
    "epochs = 100"
   ]
  },
  {
   "cell_type": "code",
   "execution_count": 111,
   "id": "3110e6ce",
   "metadata": {},
   "outputs": [
    {
     "name": "stdout",
     "output_type": "stream",
     "text": [
      "Epoch: 1, \t Average loss: 30.5089\n",
      "Epoch: 2, \t Average loss: 30.4987\n",
      "Epoch: 3, \t Average loss: 30.3884\n",
      "Epoch: 4, \t Average loss: 30.3972\n",
      "Epoch: 5, \t Average loss: 30.3802\n",
      "Epoch: 6, \t Average loss: 30.3716\n",
      "Epoch: 7, \t Average loss: 30.3699\n",
      "Epoch: 8, \t Average loss: 30.3384\n"
     ]
    }
   ],
   "source": [
    "model.load_state_dict(torch.load('save\\\\vae.pt'))\n",
    "for epoch in range(epochs):  \n",
    "    train(epoch + 1)"
   ]
  },
  {
   "cell_type": "code",
   "execution_count": null,
   "id": "8d187730",
   "metadata": {},
   "outputs": [],
   "source": [
    "def test(epoch):\n",
    "    model.eval()\n",
    "    test_loss = 0\n",
    "    with torch.no_grad():\n",
    "        for i, (data, _) in enumerate(test_loader):\n",
    "            data = data.to(device)\n",
    "            recon_batch, mu, logvar = model(data)\n",
    "            test_loss += loss_function(recon_batch, data, mu, logvar).item()\n",
    "\n",
    "            if i == 0:\n",
    "                n = min(data.size(0), 16)\n",
    "                comparison = torch.cat([data[:n],\n",
    "                                        recon_batch.view(1024, 1, 28, 28)[:n]])\n",
    "                save_image(comparison.cpu(),\n",
    "                           'results/reconstruction_' + str(epoch) + '.png')\n",
    "            \n",
    "    test_loss /= len(test_loader.dataset)\n",
    "    print('Test set loss: {:4f}'.format(test_loss))"
   ]
  },
  {
   "cell_type": "code",
   "execution_count": 108,
   "id": "c1c2e3ae",
   "metadata": {},
   "outputs": [
    {
     "name": "stdout",
     "output_type": "stream",
     "text": [
      "Test set loss: 30.515961\n",
      "Test set loss: 30.464157\n",
      "Test set loss: 30.529575\n",
      "Test set loss: 30.509229\n",
      "Test set loss: 30.491249\n",
      "Test set loss: 30.439775\n",
      "Test set loss: 30.481024\n",
      "Test set loss: 30.572414\n"
     ]
    }
   ],
   "source": [
    "epochs=8\n",
    "model.load_state_dict(torch.load('save\\\\vae.pt'))\n",
    "for epoch in range(epochs):  \n",
    "    test(epoch + 1)"
   ]
  }
 ],
 "metadata": {
  "kernelspec": {
   "display_name": "Python 3",
   "language": "python",
   "name": "python3"
  },
  "language_info": {
   "codemirror_mode": {
    "name": "ipython",
    "version": 3
   },
   "file_extension": ".py",
   "mimetype": "text/x-python",
   "name": "python",
   "nbconvert_exporter": "python",
   "pygments_lexer": "ipython3",
   "version": "3.12.4"
  }
 },
 "nbformat": 4,
 "nbformat_minor": 5
}
