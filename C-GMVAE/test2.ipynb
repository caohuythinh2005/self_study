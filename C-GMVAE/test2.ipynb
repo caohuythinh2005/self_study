{
 "cells": [
  {
   "cell_type": "code",
   "execution_count": 1,
   "id": "0e7d90a4",
   "metadata": {},
   "outputs": [],
   "source": [
    "import os\n",
    "import torch\n",
    "import numpy as np "
   ]
  },
  {
   "cell_type": "code",
   "execution_count": 2,
   "id": "cb2354cd",
   "metadata": {},
   "outputs": [],
   "source": [
    "def build_path(path):\n",
    "    path_levels = path.split('/')\n",
    "    cur_path = \"\"\n",
    "    for path_seg in path_levels:\n",
    "        if len(cur_path):\n",
    "            cur_path = cur_path + '/' + path_seg\n",
    "        else: \n",
    "            cur_path = path_seg\n",
    "        \n",
    "        if not os.path.exists(cur_path):\n",
    "            os.mkdir(cur_path)"
   ]
  },
  {
   "cell_type": "code",
   "execution_count": 3,
   "id": "3c54b7e6",
   "metadata": {},
   "outputs": [],
   "source": [
    "build_path('./text////get//se')"
   ]
  },
  {
   "cell_type": "code",
   "execution_count": 4,
   "id": "baa0b662",
   "metadata": {},
   "outputs": [],
   "source": [
    "def get_label(data, order, offset, label_dim):\n",
    "    output = []\n",
    "    for i in order:\n",
    "        output.append(data[i][offset:offset+label_dim])\n",
    "\n",
    "    output = np.array(output, dtype='int')\n",
    "    return output"
   ]
  },
  {
   "cell_type": "code",
   "execution_count": null,
   "id": "2c120924",
   "metadata": {},
   "outputs": [],
   "source": []
  },
  {
   "cell_type": "code",
   "execution_count": 5,
   "id": "3764633c",
   "metadata": {},
   "outputs": [
    {
     "name": "stdout",
     "output_type": "stream",
     "text": [
      "[[ 9 10]\n",
      " [ 1  2]]\n"
     ]
    }
   ],
   "source": [
    "data = [\n",
    "    [0, 1, 2, 3],\n",
    "    [4, 5, 6, 7],\n",
    "    [8, 9, 10, 11],\n",
    "]\n",
    "\n",
    "order = [2, 0]\n",
    "offset = 1\n",
    "label_dim = 2\n",
    "\n",
    "labels = get_label(data, order, offset, label_dim)\n",
    "print(labels)\n",
    "# Output: [[ 9 10]\n",
    "#          [ 1  2]]\n"
   ]
  },
  {
   "cell_type": "code",
   "execution_count": 6,
   "id": "9261f556",
   "metadata": {},
   "outputs": [],
   "source": [
    "def get_feat(data, order, meta_offset, label_dim, feature_dim):\n",
    "    output = []\n",
    "    meta_output = []\n",
    "    offset = meta_offset + label_dim\n",
    "    for i in order:\n",
    "        meta_output.append(data[i][:meta_offset])\n",
    "        output.append(data[i][offset:offset+feature_dim])\n",
    "\n",
    "    output = np.array(output, dtype='float32')\n",
    "    meta_output = np.array(meta_output, dtype='float32')\n",
    "    return np.concatenate([output, meta_output], axis=1)"
   ]
  },
  {
   "cell_type": "code",
   "execution_count": 7,
   "id": "d71cf357",
   "metadata": {},
   "outputs": [
    {
     "name": "stdout",
     "output_type": "stream",
     "text": [
      "[[11.  11.1 11.2  0.3  0.4]\n",
      " [10.  10.1 10.2  0.1  0.2]]\n"
     ]
    }
   ],
   "source": [
    "data = [\n",
    "    [0.1, 0.2,   1,     10.0, 10.1, 10.2],   # meta(0.1, 0.2), label(1), feature(10.0, 10.1, 10.2)\n",
    "    [0.3, 0.4,   0,     11.0, 11.1, 11.2],\n",
    "]\n",
    "\n",
    "order = [1, 0]\n",
    "meta_offset = 2\n",
    "label_dim = 1\n",
    "feature_dim = 3\n",
    "\n",
    "feat = get_feat(data, order, meta_offset, label_dim, feature_dim)\n",
    "print(feat)\n"
   ]
  },
  {
   "cell_type": "code",
   "execution_count": 16,
   "id": "bba6bdbc",
   "metadata": {},
   "outputs": [],
   "source": [
    "def log_sum_exp(x, mask):  # mask is ignored\n",
    "    max_x = torch.max(x, 1)[0] \n",
    "    print(max_x)                       # shape: (batch,)\n",
    "    new_x = x - max_x.unsqueeze(1).expand_as(x)       # shape: same as x\n",
    "    return max_x + (new_x.exp().sum(1)).log()         # shape: (batch,)"
   ]
  },
  {
   "cell_type": "code",
   "execution_count": 17,
   "id": "e54f8000",
   "metadata": {},
   "outputs": [
    {
     "name": "stdout",
     "output_type": "stream",
     "text": [
      "tensor([3., 4.])\n",
      "tensor([3.4076, 4.0247])\n"
     ]
    }
   ],
   "source": [
    "x = torch.tensor([[1.0, 2.0, 3.0], [4.0, -1.0, 0.0]])\n",
    "mask = torch.tensor([[1, 0, 1], [0, 1, 1]])\n",
    "\n",
    "log_sum = log_sum_exp(x, mask)\n",
    "print(log_sum)"
   ]
  },
  {
   "cell_type": "markdown",
   "id": "c442f804",
   "metadata": {},
   "source": [
    "max -> values, indices"
   ]
  },
  {
   "cell_type": "code",
   "execution_count": 21,
   "id": "84095724",
   "metadata": {},
   "outputs": [
    {
     "data": {
      "text/plain": [
       "tensor([[3., 3., 3.],\n",
       "        [4., 4., 4.]])"
      ]
     },
     "execution_count": 21,
     "metadata": {},
     "output_type": "execute_result"
    }
   ],
   "source": [
    "torch.max(x, 1)[0].unsqueeze(1).expand_as(x)"
   ]
  },
  {
   "cell_type": "code",
   "execution_count": 22,
   "id": "9ade139b",
   "metadata": {},
   "outputs": [
    {
     "data": {
      "text/plain": [
       "tensor([[1, 2],\n",
       "        [3, 4]])"
      ]
     },
     "execution_count": 22,
     "metadata": {},
     "output_type": "execute_result"
    }
   ],
   "source": [
    "A = torch.tensor([[1, 2], [3, 4]])\n",
    "A"
   ]
  },
  {
   "cell_type": "code",
   "execution_count": 23,
   "id": "48aa0ab0",
   "metadata": {},
   "outputs": [
    {
     "data": {
      "text/plain": [
       "tensor([[[1, 2],\n",
       "         [3, 4]],\n",
       "\n",
       "        [[1, 2],\n",
       "         [3, 4]],\n",
       "\n",
       "        [[1, 2],\n",
       "         [3, 4]]])"
      ]
     },
     "execution_count": 23,
     "metadata": {},
     "output_type": "execute_result"
    }
   ],
   "source": [
    "A.unsqueeze(0).expand(3, -1, -1)"
   ]
  }
 ],
 "metadata": {
  "kernelspec": {
   "display_name": "myenv",
   "language": "python",
   "name": "python3"
  },
  "language_info": {
   "codemirror_mode": {
    "name": "ipython",
    "version": 3
   },
   "file_extension": ".py",
   "mimetype": "text/x-python",
   "name": "python",
   "nbconvert_exporter": "python",
   "pygments_lexer": "ipython3",
   "version": "3.13.3"
  }
 },
 "nbformat": 4,
 "nbformat_minor": 5
}
