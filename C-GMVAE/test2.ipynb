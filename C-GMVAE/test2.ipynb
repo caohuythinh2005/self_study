{
 "cells": [
  {
   "cell_type": "code",
   "execution_count": 1,
   "id": "0e7d90a4",
   "metadata": {},
   "outputs": [],
   "source": [
    "import os\n",
    "import torch\n",
    "import numpy as np "
   ]
  },
  {
   "cell_type": "code",
   "execution_count": 2,
   "id": "cb2354cd",
   "metadata": {},
   "outputs": [],
   "source": [
    "def build_path(path):\n",
    "    path_levels = path.split('/')\n",
    "    cur_path = \"\"\n",
    "    for path_seg in path_levels:\n",
    "        if len(cur_path):\n",
    "            cur_path = cur_path + '/' + path_seg\n",
    "        else: \n",
    "            cur_path = path_seg\n",
    "        \n",
    "        if not os.path.exists(cur_path):\n",
    "            os.mkdir(cur_path)"
   ]
  },
  {
   "cell_type": "code",
   "execution_count": 3,
   "id": "3c54b7e6",
   "metadata": {},
   "outputs": [],
   "source": [
    "build_path('./text////get//se')"
   ]
  },
  {
   "cell_type": "code",
   "execution_count": 4,
   "id": "baa0b662",
   "metadata": {},
   "outputs": [],
   "source": [
    "def get_label(data, order, offset, label_dim):\n",
    "    output = []\n",
    "    for i in order:\n",
    "        output.append(data[i][offset:offset+label_dim])\n",
    "\n",
    "    output = np.array(output, dtype='int')\n",
    "    return output"
   ]
  },
  {
   "cell_type": "code",
   "execution_count": 5,
   "id": "3764633c",
   "metadata": {},
   "outputs": [
    {
     "name": "stdout",
     "output_type": "stream",
     "text": [
      "[[ 9 10]\n",
      " [ 1  2]]\n"
     ]
    }
   ],
   "source": [
    "data = [\n",
    "    [0, 1, 2, 3],\n",
    "    [4, 5, 6, 7],\n",
    "    [8, 9, 10, 11],\n",
    "]\n",
    "\n",
    "order = [2, 0]\n",
    "offset = 1\n",
    "label_dim = 2\n",
    "\n",
    "labels = get_label(data, order, offset, label_dim)\n",
    "print(labels)\n",
    "# Output: [[ 9 10]\n",
    "#          [ 1  2]]\n"
   ]
  }
 ],
 "metadata": {
  "kernelspec": {
   "display_name": "myenv",
   "language": "python",
   "name": "python3"
  },
  "language_info": {
   "codemirror_mode": {
    "name": "ipython",
    "version": 3
   },
   "file_extension": ".py",
   "mimetype": "text/x-python",
   "name": "python",
   "nbconvert_exporter": "python",
   "pygments_lexer": "ipython3",
   "version": "3.13.3"
  }
 },
 "nbformat": 4,
 "nbformat_minor": 5
}
