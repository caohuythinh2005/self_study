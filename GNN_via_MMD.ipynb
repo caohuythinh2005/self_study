{
 "cells": [
  {
   "cell_type": "code",
   "execution_count": null,
   "id": "9e9f00c3",
   "metadata": {},
   "outputs": [],
   "source": [
    "import matplotlib.pyplot as plt\n",
    "import torch\n",
    "import torch.nn as nn\n",
    "import torch.nn.functional as F\n",
    "import torch\n",
    "import torch.optim as optim\n",
    "from torch.autograd import Variable\n",
    "from torchvision import datasets, transforms\n",
    "\n"
   ]
  },
  {
   "cell_type": "code",
   "execution_count": 16,
   "id": "59320e00",
   "metadata": {},
   "outputs": [],
   "source": [
    "root = \"./\"\n",
    "BATCH_SIZE = 500\n",
    "N_INP = 32\n",
    "N_OUT = 784\n",
    "N_GEN_EPOCHS = 10\n",
    "KERNEL_TYPE = \"multiscale\""
   ]
  },
  {
   "cell_type": "code",
   "execution_count": 4,
   "id": "377444bc",
   "metadata": {},
   "outputs": [],
   "source": [
    "# use gpu if available\n",
    "device = torch.device(\"cuda\" if torch.cuda.is_available() else \"cpu\")"
   ]
  },
  {
   "cell_type": "code",
   "execution_count": 5,
   "id": "149294a1",
   "metadata": {},
   "outputs": [],
   "source": [
    "# Class definition Generative with Maximum Mean Discrepancy (GMMD)\n",
    "class GMMD(nn.Module):\n",
    "    def __init__(self, n_start, n_out):\n",
    "        super(GMMD, self).__init__()\n",
    "        self.fc1 = nn.Linear(n_start, 1000)\n",
    "        self.fc2 = nn.Linear(1000, 600)\n",
    "        self.fc3 = nn.Linear(600, 1000)\n",
    "        self.fc4 = nn.Linear(1000, n_out)\n",
    "\n",
    "    def forward(self, samples):\n",
    "        x = F.sigmoid(self.fc1(samples))\n",
    "        x = F.sigmoid(self.fc2(x))\n",
    "        x = F.sigmoid(self.fc3(x))\n",
    "        x = F.sigmoid(self.fc4(x))\n",
    "        return x"
   ]
  },
  {
   "cell_type": "code",
   "execution_count": 8,
   "id": "e0ba3aee",
   "metadata": {},
   "outputs": [
    {
     "name": "stderr",
     "output_type": "stream",
     "text": [
      "100.0%\n",
      "100.0%\n",
      "100.0%\n",
      "100.0%\n"
     ]
    }
   ],
   "source": [
    "root = './data'  # or any writable directory\n",
    "\n",
    "trans = transforms.Compose([transforms.ToTensor()])\n",
    "train_set = datasets.MNIST(root=root, train=True, transform=trans, download=True)\n",
    "train_loader = torch.utils.data.DataLoader(\n",
    "    dataset=train_set,\n",
    "    batch_size=BATCH_SIZE,\n",
    "    shuffle=True\n",
    ")\n"
   ]
  },
  {
   "cell_type": "code",
   "execution_count": 9,
   "id": "22e70e16",
   "metadata": {},
   "outputs": [],
   "source": [
    "# define the GMMD\n",
    "\n",
    "gmmd_net = GMMD(N_INP, N_OUT).to(device)\n",
    "\n",
    "try:\n",
    "  gmmd_net.load_state_dict(torch.load(\"gmmd.pth\"))\n",
    "  print(\"Model parameters are loaded\")\n",
    "\n",
    "except:\n",
    "  pass\n",
    "\n",
    "gmmd_optimizer = optim.RMSprop(gmmd_net.parameters(), lr=0.003)"
   ]
  },
  {
   "cell_type": "code",
   "execution_count": 13,
   "id": "dd79d55b",
   "metadata": {},
   "outputs": [],
   "source": [
    "def MMD(x, y, kernel):\n",
    "    \"\"\"Emprical maximum mean discrepancy. The lower the result, the more evidence that distributions are the same.\n",
    "\n",
    "    Args:\n",
    "        x: first sample, distribution P\n",
    "        y: second sample, distribution Q\n",
    "        kernel: kernel type such as \"multiscale\" or \"rbf\"\n",
    "    \"\"\"\n",
    "    xx, yy, zz = torch.mm(x, x.t()), torch.mm(y, y.t()), torch.mm(x, y.t())\n",
    "    rx = (xx.diag().unsqueeze(0).expand_as(xx))\n",
    "    ry = (yy.diag().unsqueeze(0).expand_as(yy))\n",
    "\n",
    "    dxx = rx.t() + rx - 2. * xx # Used for A in (1)\n",
    "    dyy = ry.t() + ry - 2. * yy # Used for B in (1)\n",
    "    dxy = rx.t() + ry - 2. * zz # Used for C in (1)\n",
    "\n",
    "    XX, YY, XY = (torch.zeros(xx.shape).to(device),\n",
    "                  torch.zeros(xx.shape).to(device),\n",
    "                  torch.zeros(xx.shape).to(device))\n",
    "\n",
    "    if kernel == \"multiscale\":\n",
    "\n",
    "        bandwidth_range = [0.2, 0.5, 0.9, 1.3]\n",
    "        for a in bandwidth_range:\n",
    "            XX += a**2 * (a**2 + dxx)**-1\n",
    "            YY += a**2 * (a**2 + dyy)**-1\n",
    "            XY += a**2 * (a**2 + dxy)**-1\n",
    "\n",
    "    if kernel == \"rbf\":\n",
    "\n",
    "        bandwidth_range = [10, 15, 20, 50]\n",
    "        for a in bandwidth_range:\n",
    "            XX += torch.exp(-0.5*dxx/a)\n",
    "            YY += torch.exp(-0.5*dyy/a)\n",
    "            XY += torch.exp(-0.5*dxy/a)\n",
    "\n",
    "\n",
    "\n",
    "    return torch.mean(XX + YY - 2. * XY)"
   ]
  },
  {
   "cell_type": "code",
   "execution_count": 14,
   "id": "9ae438bf",
   "metadata": {},
   "outputs": [],
   "source": [
    "def train_one_step(x, samples):\n",
    "    samples = Variable(samples).to(device)\n",
    "    gen_samples = gmmd_net(samples)\n",
    "\n",
    "    loss = MMD(x, gen_samples, KERNEL_TYPE)\n",
    "    gmmd_optimizer.zero_grad()\n",
    "    loss.backward()\n",
    "    gmmd_optimizer.step()\n",
    "\n",
    "    return loss"
   ]
  },
  {
   "cell_type": "code",
   "execution_count": null,
   "id": "9923202e",
   "metadata": {},
   "outputs": [
    {
     "name": "stdout",
     "output_type": "stream",
     "text": [
      "GMMD Training: 0. epoch completed, average loss: 0.1645506448422869\n"
     ]
    }
   ],
   "source": [
    "# training loop\n",
    "iterations = 0\n",
    "Z = torch.randn((120,BATCH_SIZE, N_INP))\n",
    "for ep in range(N_GEN_EPOCHS):\n",
    "    avg_loss = 0\n",
    "    resampling_limit = 300 # From paper\n",
    "\n",
    "    for idx, (x, _) in enumerate(train_loader):\n",
    "        iterations += 1\n",
    "        x = x.view(x.size()[0], -1)\n",
    "        x = Variable(x).to(device)\n",
    "\n",
    "        # normal random noise between [0, 1]\n",
    "        random_noise = Z[idx,:,:]\n",
    "\n",
    "        loss = train_one_step(x, random_noise)\n",
    "        avg_loss += loss.item()\n",
    "\n",
    "        if iterations % 300 == 0:\n",
    "           Z = random_noise = torch.randn((120,BATCH_SIZE, N_INP))\n",
    "\n",
    "\n",
    "    avg_loss /= (idx + 1)\n",
    "    print(f\"GMMD Training: {ep}. epoch completed, average loss: {avg_loss}\")\n",
    "\n",
    "torch.save(gmmd_net.state_dict(), \"gmmd.pth\")\n"
   ]
  },
  {
   "cell_type": "code",
   "execution_count": null,
   "id": "1aa42cbb",
   "metadata": {},
   "outputs": [
    {
     "name": "stdout",
     "output_type": "stream",
     "text": [
      "GMMD Training: 0. epoch completed, average loss: 0.9013622450331847\n"
     ]
    }
   ],
   "source": [
    "import matplotlib.pyplot as plt\n",
    "\n",
    "Z = random_noise = torch.randn((120,BATCH_SIZE, N_INP))\n",
    "trans = transforms.Compose([transforms.ToTensor()])\n",
    "test_set = datasets.MNIST(root=root, train=False, transform=trans, download=True)\n",
    "view_data = [test_set[i][0] for i in range(4 * 8)]\n",
    "plt.gray()\n",
    "\n",
    "print(\"Images generated by GMMD\")\n",
    "\n",
    "for r in range(4):\n",
    "  for c in range(8):\n",
    "    ax = plt.subplot(4, 8, r * 8 + c + 1)\n",
    "\n",
    "    noise = torch.randn((1, N_INP)).to(device)\n",
    "    y = gmmd_net(noise)\n",
    "    plt.imshow(y.detach().squeeze().cpu().reshape(28, 28))\n",
    "    ax.get_xaxis().set_visible(False)\n",
    "    ax.get_yaxis().set_visible(False)\n",
    "plt.show()\n",
    "\n"
   ]
  }
 ],
 "metadata": {
  "kernelspec": {
   "display_name": "myenv",
   "language": "python",
   "name": "python3"
  },
  "language_info": {
   "codemirror_mode": {
    "name": "ipython",
    "version": 3
   },
   "file_extension": ".py",
   "mimetype": "text/x-python",
   "name": "python",
   "nbconvert_exporter": "python",
   "pygments_lexer": "ipython3",
   "version": "3.13.3"
  }
 },
 "nbformat": 4,
 "nbformat_minor": 5
}
